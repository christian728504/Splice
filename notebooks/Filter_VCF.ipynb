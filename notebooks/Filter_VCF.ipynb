{
 "cells": [
  {
   "cell_type": "code",
   "execution_count": 7,
   "id": "367f1ddc-9e5c-421f-a350-56db6062eeb7",
   "metadata": {
    "execution": {
     "iopub.execute_input": "2024-11-22T22:30:02.241378Z",
     "iopub.status.busy": "2024-11-22T22:30:02.240857Z",
     "iopub.status.idle": "2024-11-22T22:30:02.244919Z",
     "shell.execute_reply": "2024-11-22T22:30:02.244367Z",
     "shell.execute_reply.started": "2024-11-22T22:30:02.241344Z"
    }
   },
   "outputs": [],
   "source": [
    "from pysam import VariantFile, tabix_index\n",
    "import re"
   ]
  },
  {
   "cell_type": "code",
   "execution_count": 10,
   "id": "04d0d275-403a-4557-b4d6-f92f5d6f9e0c",
   "metadata": {
    "execution": {
     "iopub.execute_input": "2024-11-22T22:30:37.086023Z",
     "iopub.status.busy": "2024-11-22T22:30:37.085406Z",
     "iopub.status.idle": "2024-11-22T22:30:37.104407Z",
     "shell.execute_reply": "2024-11-22T22:30:37.103875Z",
     "shell.execute_reply.started": "2024-11-22T22:30:37.085981Z"
    }
   },
   "outputs": [],
   "source": [
    "def create_vcf_header():\n",
    "    \"\"\"Create standardized VCF header\"\"\"\n",
    "    return \"\"\"##fileformat=VCFv4.2\n",
    "##FILTER=<ID=PASS,Description=\"All filters passed\">\n",
    "##reference=GRCh38\n",
    "##contig=<ID=chr1>\n",
    "##contig=<ID=chr2>\n",
    "##contig=<ID=chr3>\n",
    "##contig=<ID=chr4>\n",
    "##contig=<ID=chr5>\n",
    "##contig=<ID=chr6>\n",
    "##contig=<ID=chr7>\n",
    "##contig=<ID=chr8>\n",
    "##contig=<ID=chr9>\n",
    "##contig=<ID=chr10>\n",
    "##contig=<ID=chr11>\n",
    "##contig=<ID=chr12>\n",
    "##contig=<ID=chr13>\n",
    "##contig=<ID=chr14>\n",
    "##contig=<ID=chr15>\n",
    "##contig=<ID=chr16>\n",
    "##contig=<ID=chr17>\n",
    "##contig=<ID=chr18>\n",
    "##contig=<ID=chr19>\n",
    "##contig=<ID=chr20>\n",
    "##contig=<ID=chr21>\n",
    "##contig=<ID=chr22>\n",
    "##contig=<ID=chrX>\n",
    "##bcftools_normVersion=1.12+htslib-1.12\n",
    "##bcftools_normCommand=norm -m-both -o norm1.vcf.gz plain.vcf.gz; Date=Sat Mar 12 14:42:06 2022\n",
    "#CHROM\\tPOS\\tID\\tREF\\tALT\\tQUAL\\tFILTER\\tINFO\\n\"\"\"\n",
    "\n",
    "def convert_to_string(value):\n",
    "    \"\"\"Convert tuple or other types to string\"\"\"\n",
    "    if value is None:\n",
    "        return \"\"\n",
    "    if isinstance(value, tuple):\n",
    "        return value[0]\n",
    "    return str(value)\n",
    "\n",
    "def is_immune_related(disease_names):\n",
    "    \"\"\"Check if any disease name is immune related\"\"\"\n",
    "    immune_pattern = re.compile(\n",
    "        r'immun|autoimmun|inflammation|lupus|arthritis|'\n",
    "        r'thyroiditis|celiac|psoriasis|diabetes type 1|'\n",
    "        r'multiple sclerosis|inflammatory bowel|'\n",
    "        r'rheumatoid|vasculitis|myasthenia|'\n",
    "        r'sarcoidosis|complement|HLA|cytokine',\n",
    "        re.IGNORECASE\n",
    "    )\n",
    "    return any(immune_pattern.search(convert_to_string(disease)) for disease in disease_names)\n",
    "\n",
    "def is_valid_variant(variant):\n",
    "    \"\"\"Check if variant has all required fields\"\"\"\n",
    "    if not variant.alts or not variant.ref or not variant.chrom or not variant.pos:\n",
    "        return False\n",
    "    return True\n",
    "\n",
    "def format_variant_line(variant):\n",
    "    \"\"\"Format variant into VCF line\"\"\"\n",
    "    if not is_valid_variant(variant):\n",
    "        return None\n",
    "        \n",
    "    chrom = f\"chr{variant.chrom}\" if not variant.chrom.startswith('chr') else variant.chrom\n",
    "    variant_id = variant.id if variant.id else '.'\n",
    "    return f\"{chrom}\\t{variant.pos}\\t{variant_id}\\t{variant.ref}\\t{variant.alts[0]}\\t.\\t.\\t.\\n\"\n",
    "\n",
    "def process_variant(variant):\n",
    "    \"\"\"Process single variant and return formatted line if immune-related\"\"\"\n",
    "    if 'CLNDN' not in variant.info:\n",
    "        return None\n",
    "        \n",
    "    disease_names = variant.info['CLNDN']\n",
    "    if not isinstance(disease_names, list):\n",
    "        disease_names = [disease_names]\n",
    "        \n",
    "    if not is_immune_related(disease_names):\n",
    "        return None\n",
    "        \n",
    "    return format_variant_line(variant)\n",
    "\n",
    "def prepare_vcf(vcf_path):\n",
    "    \"\"\"Index VCF file if needed\"\"\"\n",
    "    try:\n",
    "        tabix_index(vcf_path, preset='vcf', force=True)\n",
    "    except Exception as e:\n",
    "        print(f\"Warning: Could not index file: {e}\")\n",
    "\n",
    "def filter_immune_variants(input_vcf, output_vcf):\n",
    "    \"\"\"Filter ClinVar VCF for immune-related variants\"\"\"\n",
    "    prepare_vcf(input_vcf)\n",
    "    vcf_in = VariantFile(input_vcf)\n",
    "    variant_count = 0\n",
    "    \n",
    "    # Write header\n",
    "    with open(output_vcf, 'w') as f:\n",
    "        f.write(create_vcf_header())\n",
    "    \n",
    "    # Process variants\n",
    "    with open(output_vcf, 'a') as f:\n",
    "        for variant in vcf_in:\n",
    "            vcf_line = process_variant(variant)\n",
    "            if vcf_line is None:\n",
    "                continue\n",
    "                \n",
    "            f.write(vcf_line)\n",
    "            variant_count += 1\n",
    "    \n",
    "    print(f\"Total immune-related variants found: {variant_count}\")"
   ]
  },
  {
   "cell_type": "code",
   "execution_count": 11,
   "id": "438a3ee9-8766-4ecc-bdee-77fff7f9b48d",
   "metadata": {
    "execution": {
     "iopub.execute_input": "2024-11-22T22:30:38.775709Z",
     "iopub.status.busy": "2024-11-22T22:30:38.775225Z",
     "iopub.status.idle": "2024-11-22T22:31:07.553234Z",
     "shell.execute_reply": "2024-11-22T22:31:07.552912Z",
     "shell.execute_reply.started": "2024-11-22T22:30:38.775683Z"
    }
   },
   "outputs": [
    {
     "name": "stdout",
     "output_type": "stream",
     "text": [
      "Total immune-related variants found: 49775\n"
     ]
    }
   ],
   "source": [
    "# Run the filtering\n",
    "input_file = \"/Users/anonmacintosh/Projects/Splice/data/clinvar.vcf.gz\"\n",
    "output_file = \"/Users/anonmacintosh/Projects/Splice/data/immune_variants.vcf\"\n",
    "\n",
    "filter_immune_variants(input_file, output_file)"
   ]
  },
  {
   "cell_type": "code",
   "execution_count": null,
   "id": "c66a05d8-c400-473c-a80f-4d1821ff07a4",
   "metadata": {},
   "outputs": [],
   "source": []
  }
 ],
 "metadata": {
  "kernelspec": {
   "display_name": "Python 3 (ipykernel)",
   "language": "python",
   "name": "python3"
  },
  "language_info": {
   "codemirror_mode": {
    "name": "ipython",
    "version": 3
   },
   "file_extension": ".py",
   "mimetype": "text/x-python",
   "name": "python",
   "nbconvert_exporter": "python",
   "pygments_lexer": "ipython3",
   "version": "3.11.10"
  }
 },
 "nbformat": 4,
 "nbformat_minor": 5
}
