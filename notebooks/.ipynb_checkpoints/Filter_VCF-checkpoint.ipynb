{
 "cells": [
  {
   "cell_type": "code",
   "execution_count": 9,
   "id": "fe8e6229-a435-49d7-a4e0-4b9bbf1bd792",
   "metadata": {
    "execution": {
     "iopub.execute_input": "2024-11-21T18:33:15.372526Z",
     "iopub.status.busy": "2024-11-21T18:33:15.372037Z",
     "iopub.status.idle": "2024-11-21T18:33:15.375927Z",
     "shell.execute_reply": "2024-11-21T18:33:15.375319Z",
     "shell.execute_reply.started": "2024-11-21T18:33:15.372496Z"
    }
   },
   "outputs": [],
   "source": [
    "from pysam import VariantFile\n",
    "import re"
   ]
  },
  {
   "cell_type": "code",
   "execution_count": 10,
   "id": "46fcc753-6dde-4dce-8de1-e0d56ee722d4",
   "metadata": {
    "execution": {
     "iopub.execute_input": "2024-11-21T18:33:19.861224Z",
     "iopub.status.busy": "2024-11-21T18:33:19.860744Z",
     "iopub.status.idle": "2024-11-21T18:33:19.869222Z",
     "shell.execute_reply": "2024-11-21T18:33:19.868650Z",
     "shell.execute_reply.started": "2024-11-21T18:33:19.861198Z"
    }
   },
   "outputs": [],
   "source": [
    "def filter_immune_variants(input_vcf, output_vcf):\n",
    "    \"\"\"\n",
    "    Filter ClinVar VCF for immune-related variants\n",
    "    \n",
    "    Args:\n",
    "        input_vcf (str): Path to input ClinVar VCF\n",
    "        output_vcf (str): Path to output filtered VCF\n",
    "    \"\"\"\n",
    "    # Open input VCF\n",
    "    vcf_in = VariantFile(input_vcf)\n",
    "    \n",
    "    # Create new VCF with same header\n",
    "    vcf_out = VariantFile(output_vcf, 'w', header=vcf_in.header)\n",
    "    \n",
    "    # Compile regex pattern for immune-related terms\n",
    "    immune_pattern = re.compile(\n",
    "        r'immun|autoimmun|inflammation|lupus|arthritis|'\n",
    "        r'thyroiditis|celiac|psoriasis|diabetes type 1|'\n",
    "        r'multiple sclerosis|inflammatory bowel|'\n",
    "        r'rheumatoid|vasculitis|myasthenia|'\n",
    "        r'sarcoidosis|complement|HLA|cytokine',\n",
    "        re.IGNORECASE\n",
    "    )\n",
    "    \n",
    "    variant_count = 0\n",
    "    # Iterate through variants\n",
    "    for variant in vcf_in.fetch():\n",
    "        # Check CLNDN (Clinical Disease Name) in INFO field\n",
    "        if 'CLNDN' in variant.info:\n",
    "            disease_names = variant.info['CLNDN']\n",
    "            # Convert to list if not already\n",
    "            if isinstance(disease_names, str):\n",
    "                disease_names = [disease_names]\n",
    "                \n",
    "            # Check if any disease name matches immune pattern\n",
    "            if any(immune_pattern.search(disease) for disease in disease_names):\n",
    "                vcf_out.write(variant)\n",
    "                variant_count += 1\n",
    "                \n",
    "                # Print example matches (first few)\n",
    "                if variant_count <= 5:\n",
    "                    print(f\"Found immune-related variant:\")\n",
    "                    print(f\"Position: {variant.chrom}:{variant.pos}\")\n",
    "                    print(f\"Disease(s): {disease_names}\")\n",
    "                    print(\"---\")\n",
    "    \n",
    "    print(f\"Total immune-related variants found: {variant_count}\")\n",
    "    \n",
    "    vcf_in.close()\n",
    "    vcf_out.close()"
   ]
  },
  {
   "cell_type": "code",
   "execution_count": 12,
   "id": "376e9581-1b83-40c5-9838-bd2786000181",
   "metadata": {
    "execution": {
     "iopub.execute_input": "2024-11-21T18:34:20.236640Z",
     "iopub.status.busy": "2024-11-21T18:34:20.235929Z",
     "iopub.status.idle": "2024-11-21T18:34:38.064764Z",
     "shell.execute_reply": "2024-11-21T18:34:38.064502Z",
     "shell.execute_reply.started": "2024-11-21T18:34:20.236613Z"
    }
   },
   "outputs": [
    {
     "name": "stderr",
     "output_type": "stream",
     "text": [
      "[W::hts_idx_load3] The index file is older than the data file: /Users/anonmacintosh/Projects/Splice/data/clinvar.vcf.gz.tbi\n"
     ]
    },
    {
     "name": "stdout",
     "output_type": "stream",
     "text": [
      "Found immune-related variant:\n",
      "Position: 1:1211567\n",
      "Disease(s): ('Combined_immunodeficiency_due_to_OX40_deficiency',)\n",
      "---\n",
      "Found immune-related variant:\n",
      "Position: 1:1211573\n",
      "Disease(s): ('Combined_immunodeficiency_due_to_OX40_deficiency',)\n",
      "---\n",
      "Found immune-related variant:\n",
      "Position: 1:1211577\n",
      "Disease(s): ('Combined_immunodeficiency_due_to_OX40_deficiency',)\n",
      "---\n",
      "Found immune-related variant:\n",
      "Position: 1:1211580\n",
      "Disease(s): ('Combined_immunodeficiency_due_to_OX40_deficiency',)\n",
      "---\n",
      "Found immune-related variant:\n",
      "Position: 1:1211581\n",
      "Disease(s): ('Combined_immunodeficiency_due_to_OX40_deficiency',)\n",
      "---\n",
      "Total immune-related variants found: 57110\n"
     ]
    }
   ],
   "source": [
    "# Run the filtering\n",
    "input_file = \"/Users/anonmacintosh/Projects/Splice/data/clinvar.vcf.gz\"\n",
    "output_file = \"/Users/anonmacintosh/Projects/Splice/data/immune_variants.vcf\"\n",
    "\n",
    "filter_immune_variants(input_file, output_file)"
   ]
  },
  {
   "cell_type": "code",
   "execution_count": null,
   "id": "04d0d275-403a-4557-b4d6-f92f5d6f9e0c",
   "metadata": {},
   "outputs": [],
   "source": []
  }
 ],
 "metadata": {
  "kernelspec": {
   "display_name": "Python 3 (ipykernel)",
   "language": "python",
   "name": "python3"
  },
  "language_info": {
   "codemirror_mode": {
    "name": "ipython",
    "version": 3
   },
   "file_extension": ".py",
   "mimetype": "text/x-python",
   "name": "python",
   "nbconvert_exporter": "python",
   "pygments_lexer": "ipython3",
   "version": "3.11.10"
  }
 },
 "nbformat": 4,
 "nbformat_minor": 5
}
