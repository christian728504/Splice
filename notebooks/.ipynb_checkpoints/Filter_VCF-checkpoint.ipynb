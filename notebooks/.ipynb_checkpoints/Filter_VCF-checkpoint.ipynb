{
 "cells": [
  {
   "cell_type": "code",
   "execution_count": 4,
   "id": "367f1ddc-9e5c-421f-a350-56db6062eeb7",
   "metadata": {
    "execution": {
     "iopub.execute_input": "2024-11-22T22:28:38.851062Z",
     "iopub.status.busy": "2024-11-22T22:28:38.850406Z",
     "iopub.status.idle": "2024-11-22T22:28:38.854997Z",
     "shell.execute_reply": "2024-11-22T22:28:38.854414Z",
     "shell.execute_reply.started": "2024-11-22T22:28:38.851013Z"
    }
   },
   "outputs": [],
   "source": [
    "from pysam import VariantFile, tabix_index\n",
    "import re"
   ]
  },
  {
   "cell_type": "code",
   "execution_count": 5,
   "id": "04d0d275-403a-4557-b4d6-f92f5d6f9e0c",
   "metadata": {
    "execution": {
     "iopub.execute_input": "2024-11-22T22:28:48.260432Z",
     "iopub.status.busy": "2024-11-22T22:28:48.260096Z",
     "iopub.status.idle": "2024-11-22T22:28:48.269656Z",
     "shell.execute_reply": "2024-11-22T22:28:48.269188Z",
     "shell.execute_reply.started": "2024-11-22T22:28:48.260409Z"
    }
   },
   "outputs": [],
   "source": [
    "def create_vcf_header():\n",
    "    \"\"\"Create standardized VCF header\"\"\"\n",
    "    return \"\"\"##fileformat=VCFv4.2\n",
    "##FILTER=<ID=PASS,Description=\"All filters passed\">\n",
    "##reference=GRCh38\n",
    "##contig=<ID=chr1>\n",
    "##contig=<ID=chr2>\n",
    "##contig=<ID=chr3>\n",
    "##contig=<ID=chr4>\n",
    "##contig=<ID=chr5>\n",
    "##contig=<ID=chr6>\n",
    "##contig=<ID=chr7>\n",
    "##contig=<ID=chr8>\n",
    "##contig=<ID=chr9>\n",
    "##contig=<ID=chr10>\n",
    "##contig=<ID=chr11>\n",
    "##contig=<ID=chr12>\n",
    "##contig=<ID=chr13>\n",
    "##contig=<ID=chr14>\n",
    "##contig=<ID=chr15>\n",
    "##contig=<ID=chr16>\n",
    "##contig=<ID=chr17>\n",
    "##contig=<ID=chr18>\n",
    "##contig=<ID=chr19>\n",
    "##contig=<ID=chr20>\n",
    "##contig=<ID=chr21>\n",
    "##contig=<ID=chr22>\n",
    "##contig=<ID=chrX>\n",
    "##bcftools_normVersion=1.12+htslib-1.12\n",
    "##bcftools_normCommand=norm -m-both -o norm1.vcf.gz plain.vcf.gz; Date=Sat Mar 12 14:42:06 2022\n",
    "#CHROM\\tPOS\\tID\\tREF\\tALT\\tQUAL\\tFILTER\\tINFO\\n\"\"\"\n",
    "\n",
    "def convert_to_string(value):\n",
    "    \"\"\"Convert tuple or other types to string\"\"\"\n",
    "    if value is None:\n",
    "        return \"\"\n",
    "    if isinstance(value, tuple):\n",
    "        return value[0]\n",
    "    return str(value)\n",
    "\n",
    "def is_immune_related(disease_names):\n",
    "    \"\"\"Check if any disease name is immune related\"\"\"\n",
    "    immune_pattern = re.compile(\n",
    "        r'immun|autoimmun|inflammation|lupus|arthritis|'\n",
    "        r'thyroiditis|celiac|psoriasis|diabetes type 1|'\n",
    "        r'multiple sclerosis|inflammatory bowel|'\n",
    "        r'rheumatoid|vasculitis|myasthenia|'\n",
    "        r'sarcoidosis|complement|HLA|cytokine',\n",
    "        re.IGNORECASE\n",
    "    )\n",
    "    return any(immune_pattern.search(convert_to_string(disease)) for disease in disease_names)\n",
    "\n",
    "def is_valid_variant(variant):\n",
    "    \"\"\"Check if variant has all required fields\"\"\"\n",
    "    if not variant.alts or not variant.ref or not variant.chrom or not variant.pos:\n",
    "        return False\n",
    "    return True\n",
    "\n",
    "def format_variant_line(variant):\n",
    "    \"\"\"Format variant into VCF line\"\"\"\n",
    "    if not is_valid_variant(variant):\n",
    "        return None\n",
    "        \n",
    "    chrom = f\"chr{variant.chrom}\" if not variant.chrom.startswith('chr') else variant.chrom\n",
    "    variant_id = variant.id if variant.id else '.'\n",
    "    return f\"{chrom}\\t{variant.pos}\\t{variant_id}\\t{variant.ref}\\t{variant.alts[0]}\\t.\\t.\\t.\\n\"\n",
    "\n",
    "def process_variant(variant):\n",
    "    \"\"\"Process single variant and return formatted line if immune-related\"\"\"\n",
    "    if 'CLNDN' not in variant.info:\n",
    "        return None\n",
    "        \n",
    "    disease_names = variant.info['CLNDN']\n",
    "    if not isinstance(disease_names, list):\n",
    "        disease_names = [disease_names]\n",
    "        \n",
    "    if not is_immune_related(disease_names):\n",
    "        return None\n",
    "        \n",
    "    return format_variant_line(variant)\n",
    "\n",
    "def prepare_vcf(vcf_path):\n",
    "    \"\"\"Index VCF file if needed\"\"\"\n",
    "    try:\n",
    "        tabix_index(vcf_path, preset='vcf')\n",
    "    except Exception as e:\n",
    "        print(f\"Warning: Could not index file: {e}\")\n",
    "\n",
    "def filter_immune_variants(input_vcf, output_vcf):\n",
    "    \"\"\"Filter ClinVar VCF for immune-related variants\"\"\"\n",
    "    prepare_vcf(input_vcf)\n",
    "    vcf_in = VariantFile(input_vcf)\n",
    "    variant_count = 0\n",
    "    \n",
    "    # Write header\n",
    "    with open(output_vcf, 'w') as f:\n",
    "        f.write(create_vcf_header())\n",
    "    \n",
    "    # Process variants\n",
    "    with open(output_vcf, 'a') as f:\n",
    "        for variant in vcf_in:\n",
    "            vcf_line = process_variant(variant)\n",
    "            if vcf_line is None:\n",
    "                continue\n",
    "                \n",
    "            f.write(vcf_line)\n",
    "            variant_count += 1\n",
    "    \n",
    "    print(f\"Total immune-related variants found: {variant_count}\")"
   ]
  },
  {
   "cell_type": "code",
   "execution_count": 6,
   "id": "438a3ee9-8766-4ecc-bdee-77fff7f9b48d",
   "metadata": {
    "execution": {
     "iopub.execute_input": "2024-11-22T22:28:50.039677Z",
     "iopub.status.busy": "2024-11-22T22:28:50.038912Z",
     "iopub.status.idle": "2024-11-22T22:28:54.632763Z",
     "shell.execute_reply": "2024-11-22T22:28:54.632131Z",
     "shell.execute_reply.started": "2024-11-22T22:28:50.039622Z"
    }
   },
   "outputs": [
    {
     "ename": "TypeError",
     "evalue": "'NoneType' object is not subscriptable",
     "output_type": "error",
     "traceback": [
      "\u001b[0;31m---------------------------------------------------------------------------\u001b[0m",
      "\u001b[0;31mTypeError\u001b[0m                                 Traceback (most recent call last)",
      "Cell \u001b[0;32mIn[6], line 5\u001b[0m\n\u001b[1;32m      2\u001b[0m input_file \u001b[38;5;241m=\u001b[39m \u001b[38;5;124m\"\u001b[39m\u001b[38;5;124m/Users/anonmacintosh/Projects/Splice/data/clinvar.vcf.gz\u001b[39m\u001b[38;5;124m\"\u001b[39m\n\u001b[1;32m      3\u001b[0m output_file \u001b[38;5;241m=\u001b[39m \u001b[38;5;124m\"\u001b[39m\u001b[38;5;124m/Users/anonmacintosh/Projects/Splice/data/immune_variants.vcf\u001b[39m\u001b[38;5;124m\"\u001b[39m\n\u001b[0;32m----> 5\u001b[0m \u001b[43mfilter_immune_variants\u001b[49m\u001b[43m(\u001b[49m\u001b[43minput_file\u001b[49m\u001b[43m,\u001b[49m\u001b[43m \u001b[49m\u001b[43moutput_file\u001b[49m\u001b[43m)\u001b[49m\n",
      "Cell \u001b[0;32mIn[5], line 90\u001b[0m, in \u001b[0;36mfilter_immune_variants\u001b[0;34m(input_vcf, output_vcf)\u001b[0m\n\u001b[1;32m     88\u001b[0m \u001b[38;5;28;01mwith\u001b[39;00m \u001b[38;5;28mopen\u001b[39m(output_vcf, \u001b[38;5;124m'\u001b[39m\u001b[38;5;124ma\u001b[39m\u001b[38;5;124m'\u001b[39m) \u001b[38;5;28;01mas\u001b[39;00m f:\n\u001b[1;32m     89\u001b[0m     \u001b[38;5;28;01mfor\u001b[39;00m variant \u001b[38;5;129;01min\u001b[39;00m vcf_in:  \u001b[38;5;66;03m# Changed from vcf_in.fetch()\u001b[39;00m\n\u001b[0;32m---> 90\u001b[0m         vcf_line \u001b[38;5;241m=\u001b[39m \u001b[43mprocess_variant\u001b[49m\u001b[43m(\u001b[49m\u001b[43mvariant\u001b[49m\u001b[43m)\u001b[49m\n\u001b[1;32m     91\u001b[0m         \u001b[38;5;28;01mif\u001b[39;00m vcf_line \u001b[38;5;129;01mis\u001b[39;00m \u001b[38;5;28;01mNone\u001b[39;00m:\n\u001b[1;32m     92\u001b[0m             \u001b[38;5;28;01mcontinue\u001b[39;00m\n",
      "Cell \u001b[0;32mIn[5], line 68\u001b[0m, in \u001b[0;36mprocess_variant\u001b[0;34m(variant)\u001b[0m\n\u001b[1;32m     65\u001b[0m \u001b[38;5;28;01mif\u001b[39;00m \u001b[38;5;129;01mnot\u001b[39;00m is_immune_related(disease_names):\n\u001b[1;32m     66\u001b[0m     \u001b[38;5;28;01mreturn\u001b[39;00m \u001b[38;5;28;01mNone\u001b[39;00m\n\u001b[0;32m---> 68\u001b[0m \u001b[38;5;28;01mreturn\u001b[39;00m \u001b[43mformat_variant_line\u001b[49m\u001b[43m(\u001b[49m\u001b[43mvariant\u001b[49m\u001b[43m)\u001b[49m\n",
      "Cell \u001b[0;32mIn[5], line 54\u001b[0m, in \u001b[0;36mformat_variant_line\u001b[0;34m(variant)\u001b[0m\n\u001b[1;32m     52\u001b[0m \u001b[38;5;250m\u001b[39m\u001b[38;5;124;03m\"\"\"Format variant into VCF line\"\"\"\u001b[39;00m\n\u001b[1;32m     53\u001b[0m chrom \u001b[38;5;241m=\u001b[39m \u001b[38;5;124mf\u001b[39m\u001b[38;5;124m\"\u001b[39m\u001b[38;5;124mchr\u001b[39m\u001b[38;5;132;01m{\u001b[39;00mvariant\u001b[38;5;241m.\u001b[39mchrom\u001b[38;5;132;01m}\u001b[39;00m\u001b[38;5;124m\"\u001b[39m \u001b[38;5;28;01mif\u001b[39;00m \u001b[38;5;129;01mnot\u001b[39;00m variant\u001b[38;5;241m.\u001b[39mchrom\u001b[38;5;241m.\u001b[39mstartswith(\u001b[38;5;124m'\u001b[39m\u001b[38;5;124mchr\u001b[39m\u001b[38;5;124m'\u001b[39m) \u001b[38;5;28;01melse\u001b[39;00m variant\u001b[38;5;241m.\u001b[39mchrom\n\u001b[0;32m---> 54\u001b[0m \u001b[38;5;28;01mreturn\u001b[39;00m \u001b[38;5;124mf\u001b[39m\u001b[38;5;124m\"\u001b[39m\u001b[38;5;132;01m{\u001b[39;00mchrom\u001b[38;5;132;01m}\u001b[39;00m\u001b[38;5;130;01m\\t\u001b[39;00m\u001b[38;5;132;01m{\u001b[39;00mvariant\u001b[38;5;241m.\u001b[39mpos\u001b[38;5;132;01m}\u001b[39;00m\u001b[38;5;130;01m\\t\u001b[39;00m\u001b[38;5;132;01m{\u001b[39;00mvariant\u001b[38;5;241m.\u001b[39mid\u001b[38;5;132;01m}\u001b[39;00m\u001b[38;5;130;01m\\t\u001b[39;00m\u001b[38;5;132;01m{\u001b[39;00mvariant\u001b[38;5;241m.\u001b[39mref\u001b[38;5;132;01m}\u001b[39;00m\u001b[38;5;130;01m\\t\u001b[39;00m\u001b[38;5;132;01m{\u001b[39;00m\u001b[43mvariant\u001b[49m\u001b[38;5;241;43m.\u001b[39;49m\u001b[43malts\u001b[49m\u001b[43m[\u001b[49m\u001b[38;5;241;43m0\u001b[39;49m\u001b[43m]\u001b[49m\u001b[38;5;132;01m}\u001b[39;00m\u001b[38;5;130;01m\\t\u001b[39;00m\u001b[38;5;124m.\u001b[39m\u001b[38;5;130;01m\\t\u001b[39;00m\u001b[38;5;124m.\u001b[39m\u001b[38;5;130;01m\\t\u001b[39;00m\u001b[38;5;124m.\u001b[39m\u001b[38;5;130;01m\\n\u001b[39;00m\u001b[38;5;124m\"\u001b[39m\n",
      "\u001b[0;31mTypeError\u001b[0m: 'NoneType' object is not subscriptable"
     ]
    }
   ],
   "source": [
    "# Run the filtering\n",
    "input_file = \"/Users/anonmacintosh/Projects/Splice/data/clinvar.vcf.gz\"\n",
    "output_file = \"/Users/anonmacintosh/Projects/Splice/data/immune_variants.vcf\"\n",
    "\n",
    "filter_immune_variants(input_file, output_file)"
   ]
  },
  {
   "cell_type": "code",
   "execution_count": null,
   "id": "c66a05d8-c400-473c-a80f-4d1821ff07a4",
   "metadata": {},
   "outputs": [],
   "source": []
  }
 ],
 "metadata": {
  "kernelspec": {
   "display_name": "Python 3 (ipykernel)",
   "language": "python",
   "name": "python3"
  },
  "language_info": {
   "codemirror_mode": {
    "name": "ipython",
    "version": 3
   },
   "file_extension": ".py",
   "mimetype": "text/x-python",
   "name": "python",
   "nbconvert_exporter": "python",
   "pygments_lexer": "ipython3",
   "version": "3.11.10"
  }
 },
 "nbformat": 4,
 "nbformat_minor": 5
}
